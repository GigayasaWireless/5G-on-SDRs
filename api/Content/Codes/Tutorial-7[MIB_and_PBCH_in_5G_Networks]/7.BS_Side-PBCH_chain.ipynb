{
 "cells": [
  {
   "cell_type": "markdown",
   "id": "78033183",
   "metadata": {},
   "source": [
    "# 7. Base-station side: Physical Broadcast Channel in 5G Networks\n",
    "The Physical Broadcast Channel (PBCH) carries the Master Information Block (MIB). The MIB contains essential information for downlink synchronization of user equipment, such as cell identity, system bandwidth, and configurations of other channels. In this experiment, the complete implementation of the PBCH chain is discussed in detail.\n",
    "\n",
    "## 7.1 Import Libraries\n",
    "### 7.1 Import Python and SDR Libraries"
   ]
  },
  {
   "cell_type": "code",
   "execution_count": 1,
   "id": "ba8cbda6",
   "metadata": {},
   "outputs": [],
   "source": [
    "\n",
    "# %matplotlib widget\n",
    "\n",
    "import os\n",
    "os.environ[\"CUDA_VISIBLE_DEVICES\"] = \"-1\"\n",
    "os.environ['TF_CPP_MIN_LOG_LEVEL'] = '3'\n",
    "\n",
    "import numpy as np\n",
    "import tensorflow as tf\n",
    "import sionna as sn\n",
    "import adi\n",
    "import matplotlib.pyplot as plt\n"
   ]
  },
  {
   "cell_type": "markdown",
   "id": "ff121c8b",
   "metadata": {},
   "source": [
    "### 7.1 Import 5G Toolkit Libraries "
   ]
  },
  {
   "cell_type": "code",
   "execution_count": 2,
   "id": "b08c6209",
   "metadata": {},
   "outputs": [],
   "source": [
    "\n",
    "import sys\n",
    "sys.path.append(\"../../../../\")\n",
    "\n",
    "from toolkit5G.SequenceGeneration import PSS, SSS, DMRS\n",
    "from toolkit5G.PhysicalChannels   import PBCH\n",
    "from toolkit5G.ResourceMapping    import SSB_Grid, ResourceMapperSSB\n",
    "from toolkit5G.OFDM               import OFDMModulator\n",
    "from toolkit5G.MIMOProcessing     import AnalogBeamforming\n",
    "from toolkit5G.Configurations     import TimeFrequency5GParameters, GenerateValidSSBParameters\n",
    "from toolkit5G.ReceiverAlgorithms import PSSDetection, SSSDetection, ChannelEstimationAndEqualizationPBCH, DMRSParameterDetection, CarrierFrequencyOffsetEstimation\n",
    "from toolkit5G.OFDM               import OFDMDemodulator\n",
    "from toolkit5G.PhysicalChannels   import PBCHDecoder\n"
   ]
  },
  {
   "cell_type": "markdown",
   "id": "03ac0122",
   "metadata": {},
   "source": [
    "### 7.1 Import PBCH Components"
   ]
  },
  {
   "cell_type": "code",
   "execution_count": 3,
   "id": "4606acea",
   "metadata": {},
   "outputs": [],
   "source": [
    "\n",
    "from toolkit5G.PayloadGeneration import MIBGeneration\n",
    "from toolkit5G.PayloadGeneration import MIBExtraction\n",
    "\n",
    "from toolkit5G.PhysicalChannels.PBCH   import PBCHInterleaver\n",
    "from toolkit5G.PhysicalChannels.PBCH   import PBCHDeInterleaver\n",
    "from toolkit5G.ChannelCoder.PolarCoder import InputBitInterleaver\n",
    "from toolkit5G.ChannelCoder.PolarCoder import InputBitDeInterleaver\n",
    "from toolkit5G.Ratematcher.PolarCoder  import Subblock_Interleaver\n",
    "from toolkit5G.Ratematcher.PolarCoder  import Subblock_DeInterleaver\n",
    "from toolkit5G.Ratematcher.PolarCoder  import ChannelDeInterleaver\n",
    "from toolkit5G.Ratematcher.PolarCoder  import ChannelInterleaver\n",
    "\n",
    "from toolkit5G.Ratematcher.PolarCoder  import BitSelection\n",
    "from toolkit5G.Ratematcher.PolarCoder  import BitDeSelection\n",
    "from toolkit5G.ChannelCoder            import PolarEncoder5G\n",
    "from toolkit5G.ChannelCoder     import PolarDecoder5G\n",
    "\n",
    "# from ChannelCoder.PolarCoder.polarEncoder5G import InputBitDeInterleaver\n",
    "from toolkit5G.Scrambler        import Scrambler\n",
    "from toolkit5G.Scrambler        import DeScrambler\n",
    "from toolkit5G.CRC              import CRCEncoder\n",
    "from toolkit5G.CRC              import CRCDecoder\n",
    "from toolkit5G.SymbolMapping    import Demapper\n",
    "from toolkit5G.SymbolMapping    import Mapper\n"
   ]
  },
  {
   "cell_type": "markdown",
   "id": "fa61b8d8",
   "metadata": {},
   "source": [
    "## 7.1 Emulation Configurations"
   ]
  },
  {
   "cell_type": "code",
   "execution_count": 4,
   "id": "a0e99039",
   "metadata": {},
   "outputs": [],
   "source": [
    "\n",
    "# System Parameters\n",
    "center_frequency    = 1e9     # Carrier frequency for signal transmission\n",
    "\n",
    "# OFDM Parameters\n",
    "Bandwidth           = 10*10**6 # bandwidth\n",
    "fftSize             = 1024    # FFT-size for OFDM\n",
    "subcarrier_spacing  = 30000   # Subcarrier spacing\n",
    "numOFDMSymbols      = 14      # Number of OFDM symbols considered for emulation | 1 slot\n",
    "sample_rate         = fftSize*subcarrier_spacing # sample rate required by OFDM and DAC/ADC of SDR\n",
    "\n",
    "# Pulse Shaping\n",
    "numSamplesPerSymbol = 1\n",
    "\n",
    "# number of samples returned per call to rx()\n",
    "buffer_size         = int(4*fftSize*1.2*numSamplesPerSymbol*numOFDMSymbols)\n"
   ]
  },
  {
   "cell_type": "markdown",
   "id": "bfdd0e18-7fe3-47e8-b486-6a3ff7ec633f",
   "metadata": {},
   "source": [
    "## 7.1 PBCH Payload Generation: MIB + ATI"
   ]
  },
  {
   "cell_type": "code",
   "execution_count": 5,
   "id": "be651b43-66f5-4a09-b3bb-99881f0555cf",
   "metadata": {},
   "outputs": [],
   "source": [
    "\n",
    "nSymbolFrame= 140*int(subcarrier_spacing/15000);   # Number of OFDM symbols per frame (Its a function of subcarrier spacing)\n",
    "\n",
    "## This class fetches valid set of 5G parameters for the system configurations \n",
    "tfParams    = TimeFrequency5GParameters(Bandwidth, subcarrier_spacing, fftsize = fftSize)\n",
    "tfParams(nSymbolFrame, typeCP = \"normal\")\n",
    "nRB         = tfParams.numRBs        # SSB Grid size (Number of RBs considered for SSB transition)\n",
    "Neff        = tfParams.Neff          # Number of resource blocks for Resource Grid ( exclude gaurd band | offsets : BWP)\n",
    "fftsize     = tfParams.fftsize       # FFT-size for OFDM\n",
    "lengthCP    = tfParams.lengthCP      # CP length\n",
    "\n",
    "#### Generate MIB Information\n",
    "lamda                           = 3e8/center_frequency;\n",
    "nSCSOffset                      = 1\n",
    "ssbParameters                   = GenerateValidSSBParameters(center_frequency, nSCSOffset, isPairedBand = False, \n",
    "                                                             intraFrequencyReselection = \"allowed\", \n",
    "                                                             withSharedSpectrumChannelAccess = False,\n",
    "                                                             ssbSubCarrierOffset = 0)\n",
    "\n",
    "systemFrameNumber               = ssbParameters.systemFrameNumber \n",
    "subCarrierSpacingCommon         = ssbParameters.subCarrierSpacingCommon \n",
    "ssbSubCarrierOffset             = ssbParameters.ssbSubCarrierOffset #ssbParameters.ssbSubCarrierOffset \n",
    "DMRSTypeAPosition               = ssbParameters.DMRSTypeAPosition \n",
    "controlResourceSet0             = ssbParameters.controlResourceSet0\n",
    "searchSpace0                    = ssbParameters.searchSpace0\n",
    "\n",
    "isPairedBand                    = ssbParameters.isPairedBand\n",
    "nSCSOffset                      = ssbParameters.nSCSOffset \n",
    "choiceBit                       = ssbParameters.choiceBit \n",
    "ssbType                         = ssbParameters.ssbType \n",
    "nssbCandidatesInHrf             = 4     #ssbParameters.nssbCandidatesInHrf\n",
    "ssbIndex                        = ssbParameters.ssbIndex\n",
    "hrfBit                          = ssbParameters.hrfBit \n",
    "cellBarred                      = ssbParameters.cellBarred \n",
    "intraFrequencyReselection       = ssbParameters.intraFrequencyReselection \n",
    "withSharedSpectrumChannelAccess = ssbParameters.withSharedSpectrumChannelAccess\n",
    "\n",
    "nFrames                         = 0.5\n",
    "Nsc_ssb                         = 240  # Numbers of subcarriers in SSB\n",
    "Nsymb_ssb                       = 4    # Numbers of OFDM symbols in SSB\n"
   ]
  },
  {
   "cell_type": "markdown",
   "id": "80e261b4-5f70-4824-a39d-06b4dba23038",
   "metadata": {},
   "source": [
    "## 7.1 PSS, SSS, PBCH, DMRS Generation"
   ]
  },
  {
   "cell_type": "code",
   "execution_count": 6,
   "id": "0c9414bb-b810-40d6-9a0a-479823552eb0",
   "metadata": {},
   "outputs": [],
   "source": [
    "\n",
    "N_ID2        = np.random.randint(3)   # N_ID2 can take values of 0,1 and 2.\n",
    "\n",
    "# Generate PSS sequence\n",
    "pssObject    = PSS(N_ID2);\n",
    "pssSequence  = pssObject()   # PSS sequence\n",
    "\n",
    "N_ID1        = np.random.randint(336) # N_ID1 can take values ranging from 0 to 335.\n",
    "N_ID         = 3*N_ID1 + N_ID2        # Calculating Physical Cell ID.\n",
    "\n",
    "# Generate SSS sequence\n",
    "sssObject    = SSS(N_ID1, N_ID2)\n",
    "sssSequence  = sssObject()      # SSS Sequence\n",
    "\n",
    "# Generate DMRS sequence\n",
    "dmrsLen      = 144                    # length of DMRS sequence.   \n",
    "dmrsObject   = DMRS(\"PBCH\", N_ID, ssbIndex, nssbCandidatesInHrf, hrfBit)\n",
    "dmrsSequence = dmrsObject(dmrsLen)    # DMRS sequence\n"
   ]
  },
  {
   "cell_type": "markdown",
   "id": "9cb10800",
   "metadata": {},
   "source": [
    "## 7.1 PBCH: Transmitter\n",
    "\n",
    "![PBCH](PBCH.svg)"
   ]
  },
  {
   "cell_type": "code",
   "execution_count": 7,
   "id": "501a01f9",
   "metadata": {},
   "outputs": [],
   "source": [
    "# *********************************************************************************\n",
    "#\n",
    "# # Generate PBCH symbols\n",
    "# pbchObject   = PBCH(center_frequency, choiceBit, subCarrierSpacingCommon, DMRSTypeAPosition,\n",
    "#                    controlResourceSet0, searchSpace0, cellBarred, intraFrequencyReselection,\n",
    "#                    systemFrameNumber, ssbSubCarrierOffset, hrfBit, ssbIndex, N_ID,\n",
    "#                    nssbCandidatesInHrf)\n",
    "#\n",
    "# pbchSymbols  = pbchObject()           # PBCH payload symbol (QPSK modulated)\n",
    "#\n",
    "# *********************************************************************************\n",
    "\n",
    "mib        = MIBGeneration(center_frequency, choiceBit, subCarrierSpacingCommon, DMRSTypeAPosition,\n",
    "                           controlResourceSet0, searchSpace0, cellBarred, intraFrequencyReselection,\n",
    "                           systemFrameNumber, ssbSubCarrierOffset, hrfBit, ssbIndex)\n",
    "payloadMIB = mib()\n",
    "\n",
    "pbchIL     = PBCHInterleaver()\n",
    "ilBits     = pbchIL(payloadMIB)\n",
    "\n",
    "pbchScr    = Scrambler(\"PBCH-1\", N_ID, nssbCandidatesInHrf)\n",
    "scrBits    = pbchScr(ilBits)\n",
    "\n",
    "crcEncoder = CRCEncoder(\"CRC24C\")\n",
    "payloadCRC = crcEncoder(scrBits)\n",
    "\n",
    "pbch_IiL   = InputBitInterleaver()\n",
    "iILBits    = pbch_IiL(payloadCRC)\n",
    "\n",
    "K          = iILBits.shape[1]\n",
    "E          = 864\n",
    "purpose    = \"PBCH\"\n",
    "verbose    = 0\n",
    "encoder    = PolarEncoder5G(K, E, purpose, verbose)\n",
    "encBits    = encoder(iILBits)\n",
    "N          = encBits.shape[1]\n",
    "\n",
    "sbBIL      = Subblock_Interleaver()\n",
    "sbBil_bits = sbBIL(encBits)\n",
    "\n",
    "rm         = BitSelection(K, N, E)\n",
    "rmBits     = rm(sbBil_bits)\n",
    "\n",
    "chIL       = ChannelInterleaver()\n",
    "chIL_bits  = chIL(rmBits)\n",
    "\n",
    "pbchScr2   = Scrambler(\"PBCH-2\", N_ID, nssbCandidatesInHrf, ssbIndex)\n",
    "scr2Bits   = pbchScr2(chIL_bits)\n",
    "\n",
    "# The mapper maps blocks of information bits to constellation symbols\n",
    "modOrder   = 2\n",
    "mapper     = Mapper(\"qam\", modOrder)\n",
    "pbchSymbols= mapper(scr2Bits)\n"
   ]
  },
  {
   "cell_type": "markdown",
   "id": "671687b0-2743-4caf-b183-f06607470085",
   "metadata": {},
   "source": [
    "## 7.1 Constellation Diagram: Base Station"
   ]
  },
  {
   "cell_type": "code",
   "execution_count": 8,
   "id": "292649d5-9e99-4d21-b961-1edcb6747e33",
   "metadata": {},
   "outputs": [
    {
     "data": {
      "image/png": "[encoded data removed]",
      "text/plain": [
       "<Figure size 640x480 with 1 Axes>"
      ]
     },
     "metadata": {},
     "output_type": "display_data"
    }
   ],
   "source": [
    "fig, ax = plt.subplots()\n",
    "ax.set_aspect(True)\n",
    "ax.scatter(np.real(pbchSymbols),  np.imag(pbchSymbols), s=48)\n",
    "ax.grid()\n",
    "ax.axhline(y=0, ls=\":\", c=\"k\")\n",
    "ax.axvline(x=0, ls=\":\", c=\"k\")\n",
    "ax.set_xlim([-1.5,1.5])\n",
    "ax.set_ylim([-1.5,1.5])\n",
    "ax.set_xlabel(\"Real {x}\")\n",
    "ax.set_ylabel(\"Imag {x}\")\n",
    "ax.set_title(\"Constellation Diagram: QPSK\")\n",
    "plt.show()"
   ]
  },
  {
   "cell_type": "markdown",
   "id": "ecf92ede-dd6a-4226-a1ac-fecd0493f535",
   "metadata": {},
   "source": [
    "## 7.1 SSB Generation"
   ]
  },
  {
   "cell_type": "code",
   "execution_count": 9,
   "id": "e9ef1185-c816-418a-bf86-88398f55a30a",
   "metadata": {},
   "outputs": [],
   "source": [
    "## Generate SSB Object\n",
    "ssbObject    = SSB_Grid(N_ID, True)\n",
    "ssb          = ssbObject(pssSequence, sssSequence, dmrsSequence, pbchSymbols) # generating SSB using PSS,SSS, PBCH payload and DMRS.   \n",
    "\n",
    "## Loading SSB to Resource Grid\n",
    "\n",
    "ssbPositionInBurst    = np.zeros(nssbCandidatesInHrf, dtype=int)\n",
    "ssbPositionInBurst[0] = 1 \n",
    "\n",
    "ssbRGobject    = ResourceMapperSSB(ssbType, center_frequency, isPairedBand, withSharedSpectrumChannelAccess)\n",
    "\n",
    "ssbGrid = ssbRGobject(ssb[0], ssbPositionInBurst, offsetInSubcarriers = ssbSubCarrierOffset,\n",
    "                      offsetInRBs = 0, numRBs = nRB)[0:14]                  # SSB Grid of size 14 X numbers of RBs x 12."
   ]
  },
  {
   "cell_type": "markdown",
   "id": "8bc4433d-5c25-4b68-ac04-e2dde2cf435f",
   "metadata": {},
   "source": [
    "## 7.1 OFDM Implementation"
   ]
  },
  {
   "cell_type": "code",
   "execution_count": 10,
   "id": "d7d5b6c3-cd2f-444d-87ed-3e91c4862f82",
   "metadata": {},
   "outputs": [],
   "source": [
    "## Loading SSB to Resource Grid\n",
    "numofGuardCarriers = (int((fftsize - Neff)/2), int((fftsize - Neff)/2))\n",
    "offsetToPointA     = 0\n",
    "firstSCIndex       = int(numofGuardCarriers[0] + offsetToPointA)\n",
    "\n",
    "X = np.zeros((numOFDMSymbols, fftsize), dtype= np.complex64)  # Generating grid of size 14 X  FFT_Size.\n",
    "X[:, firstSCIndex:firstSCIndex+ssbGrid.shape[-1]] = ssbGrid   # Loading SSB into grid.\n",
    "\n",
    "### OFDM Modulation at Transmitter\n",
    "modulator = OFDMModulator(lengthCP[1]) # OFDM modulation\n",
    "x_time    = modulator(X).flatten()     # Time domain samples from OFDM modulation."
   ]
  },
  {
   "cell_type": "code",
   "execution_count": 11,
   "id": "4e6d55a5-811e-4a22-86a4-165b259cdc4f",
   "metadata": {},
   "outputs": [
    {
     "data": {
      "image/png": "[encoded data removed]",
      "text/plain": [
       "<Figure size 640x480 with 1 Axes>"
      ]
     },
     "metadata": {},
     "output_type": "display_data"
    }
   ],
   "source": [
    "### Plot Resource Grid\n",
    "fig, ax = plt.subplots()\n",
    "plt.imshow(np.abs(X), cmap = 'hot', interpolation='nearest', aspect = \"auto\")\n",
    "ax = plt.gca();\n",
    "ax.grid(color='c', linestyle='-', linewidth=1)\n",
    "ax.set_xlabel(\"Subcarrier-Index (k)\")\n",
    "ax.set_ylabel(\"OFDM Symbol Index (n)\")\n",
    "ax.set_title(\"Heat map of Transmit Grid\")\n",
    "# Gridlines based on minor ticks\n",
    "plt.show()"
   ]
  },
  {
   "cell_type": "markdown",
   "id": "e4a947ab-4316-40c8-bfa9-16929cde0b02",
   "metadata": {},
   "source": [
    "## 7.1 SDR Setup"
   ]
  },
  {
   "cell_type": "code",
   "execution_count": 12,
   "id": "d1e53171-6e6b-4d5d-ae24-1ed0c43d44c1",
   "metadata": {},
   "outputs": [],
   "source": [
    "\n",
    "# SDR setup\n",
    "sdr             = adi.Pluto(\"ip:192.168.3.1\")       # Create object of SDR setup object and configure the IP of SDR connect to the system\n",
    "sdr.sample_rate = int(sample_rate)                  # Sets the sample rate for the ADC/DAC of the SDR.\n",
    "\n",
    "# Config Tx\n",
    "sdr.tx_rf_bandwidth         = int(sample_rate)      # Set the bandwidth of the transmit filter | Can be set same as the sample rate\n",
    "# For Pluto SDR, tx_rf_bandwidth should be between 200 kHz and 56 MHz.\n",
    "sdr.tx_lo                   = int(center_frequency) # Sets the transmitter local oscillator frequency. The carrier is used to modulate/up-convert the analog information signal.\n",
    "# For Pluto SDR, tx_lo can take a value between 325 MHz to 3.8 GHz.\n",
    "sdr.tx_hardwaregain_chan0   = 0                     # Sets the gain (dB) of the transmitter power amplifier. The higher the value the more the power radiated by antenna. \n",
    "# For Pluto SDR, tx_hardwaregain_chan0 can take values between -90 to 0.\n"
   ]
  },
  {
   "cell_type": "markdown",
   "id": "b0835f00-9eba-4a71-940a-37a6a46da0c3",
   "metadata": {},
   "source": [
    "## 7.1 Transmission"
   ]
  },
  {
   "cell_type": "code",
   "execution_count": 13,
   "id": "150074ce-3df5-4710-ba04-4c67a3cbcc27",
   "metadata": {},
   "outputs": [],
   "source": [
    "\n",
    "# Start the transmitter\n",
    "sdr.tx_cyclic_buffer = True # Enable cyclic buffers\n",
    "\n",
    "sdr.tx(1.4*2**17*(x_time.repeat(1))) # start transmitting\n"
   ]
  },
  {
   "cell_type": "markdown",
   "id": "6f8afe3e",
   "metadata": {},
   "source": [
    "## MIB Information: Transmitted"
   ]
  },
  {
   "cell_type": "code",
   "execution_count": 14,
   "id": "d410934d-ecf4-4051-8523-62e4bf923c38",
   "metadata": {},
   "outputs": [
    {
     "name": "stdout",
     "output_type": "stream",
     "text": [
      "Carrier Frequency:\t1000000000.0\n",
      "ChoiceBit:  \t\t1\n",
      "nSsbCandidatesInHrf: \t4\n",
      "subCarrierSpacingCommon:15000\n",
      "DMRSTypeAPosition: \ttypeA\n",
      "controlResourceSet0:\t5\n",
      "searchSpace0: \t\t7\n",
      "cellBarred: \t\tbarred\n",
      "intraFreqReselection: \tallowed\n",
      "systemFrameNumber: \t367\n",
      "ssbSubCarrierOffset: \t0\n",
      "HRFBit: \t\t0\n",
      "iSSBindex: \t\t0\n"
     ]
    }
   ],
   "source": [
    "mib.displayParameters(0)"
   ]
  },
  {
   "cell_type": "code",
   "execution_count": null,
   "id": "5742a1be",
   "metadata": {},
   "outputs": [],
   "source": []
  }
 ],
 "metadata": {
  "kernelspec": {
   "display_name": "Python 3 (ipykernel)",
   "language": "python",
   "name": "python3"
  },
  "language_info": {
   "codemirror_mode": {
    "name": "ipython",
    "version": 3
   },
   "file_extension": ".py",
   "mimetype": "text/x-python",
   "name": "python",
   "nbconvert_exporter": "python",
   "pygments_lexer": "ipython3",
   "version": "3.11.0"
  }
 },
 "nbformat": 4,
 "nbformat_minor": 5
}
