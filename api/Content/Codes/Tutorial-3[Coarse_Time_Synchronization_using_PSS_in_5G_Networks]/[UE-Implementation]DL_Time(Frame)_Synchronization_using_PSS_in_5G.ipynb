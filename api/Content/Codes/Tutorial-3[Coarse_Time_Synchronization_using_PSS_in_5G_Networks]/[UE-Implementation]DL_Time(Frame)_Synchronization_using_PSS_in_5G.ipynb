{
 "cells": [
  {
   "cell_type": "markdown",
   "id": "b170f754",
   "metadata": {},
   "source": [
    "# UE Side Implementation-Downlink Time/Frame Synchronization using PSS in 5G Networks\n",
    "\n",
    "Downlink time/frame synchronization using Primary Synchronization Signal (PSS) in 5G networks is a vital procedure for ensuring precise timing alignment between the base station (gNB) and user equipment (UE). Here's a more accurate breakdown:\n",
    "\n",
    "1. **Purpose of Synchronization**: Synchronization is crucial for coordinating transmission and reception in wireless networks. In the downlink direction, precise synchronization ensures that UEs can correctly receive and decode the transmitted signals from the base station.\n",
    "2. **Primary Synchronization Signal (PSS)**: PSS is a specific signal transmitted periodically by the base station. It consists of unique sequences known as primary synchronization sequences, which convey critical information such as cell identity and timing.\n",
    "3. **UE Synchronization Process**: When a UE attempts to connect to a 5G network, it scans for nearby cells and detects PSS signals. By decoding the PSS, the UE identifies the cell's identity and estimates the timing offset between its internal clock and the base station's clock.\n",
    "4. **Frame Synchronization**: Alongside time synchronization, frame synchronization ensures that the UE accurately identifies the boundaries of radio frames transmitted by the base station. This synchronization is essential for proper reception and processing of control and data information within each frame.\n",
    "5. **Accurate Resource Allocation**: Precise time/frame synchronization enables efficient resource allocation by the base station. Aligned UEs allow optimal utilization of available resources, enhancing system capacity and throughput.\n",
    "6. **Benefits and Impact**: Accurate downlink synchronization using PSS enhances overall network performance by improving reception quality, facilitating seamless handovers, and enabling efficient resource management. It ensures robust connectivity and enhances the user experience in 5G networks.\n",
    "\n",
    "In summary, downlink time/frame synchronization using PSS is critical for ensuring reliable and efficient communication in 5G networks, providing precise timing alignment between base stations and user devices for seamless operation and optimal performance.\n",
    "\n",
    "\n",
    "## 3.2 Import Libraries\n",
    "\n",
    "### 3.2 Import Some Basic Python Libraries"
   ]
  },
  {
   "cell_type": "code",
   "execution_count": 1,
   "id": "08ef5870",
   "metadata": {},
   "outputs": [],
   "source": [
    "\n",
    "# from IPython.display import display, HTML\n",
    "# display(HTML(\"<style>.container { width:90% !important; }</style>\"))\n",
    "\n",
    "import os\n",
    "os.environ[\"CUDA_VISIBLE_DEVICES\"] = \"-1\"\n",
    "os.environ['TF_CPP_MIN_LOG_LEVEL'] = '3'\n",
    "\n",
    "# %matplotlib widget\n",
    "import matplotlib.pyplot as plt\n",
    "import matplotlib.patches as patches\n",
    "import matplotlib.animation as animation\n",
    "\n",
    "import numpy as np\n",
    "import adi\n"
   ]
  },
  {
   "cell_type": "markdown",
   "id": "eec54900",
   "metadata": {},
   "source": [
    "### 3.2 Import 5G Libraries"
   ]
  },
  {
   "cell_type": "code",
   "execution_count": 2,
   "id": "2881ccf1",
   "metadata": {},
   "outputs": [],
   "source": [
    "\n",
    "from toolkit5G.SequenceGeneration import PSS, SSS, DMRS\n",
    "from toolkit5G.PhysicalChannels   import PBCH, PBCHDecoder\n",
    "from toolkit5G.ResourceMapping    import SSB_Grid, ResourceMapperSSB\n",
    "from toolkit5G.OFDM               import OFDMModulator, OFDMDemodulator\n",
    "from toolkit5G.MIMOProcessing     import AnalogBeamforming, ReceiveCombining\n",
    "from toolkit5G.ReceiverAlgorithms import PSSDetection, SSSDetection, ChannelEstimationAndEqualization, DMRSParameterDetection\n",
    "from toolkit5G.Configurations     import TimeFrequency5GParameters, GenerateValidSSBParameters\n"
   ]
  },
  {
   "cell_type": "markdown",
   "id": "0f60b60a",
   "metadata": {},
   "source": [
    "## 3.2 Emulation Parameters"
   ]
  },
  {
   "cell_type": "code",
   "execution_count": 3,
   "id": "3d7321cd",
   "metadata": {},
   "outputs": [],
   "source": [
    "# System Parameters\n",
    "center_frequency    = 1e9     # Carrier frequency for signal transmission\n",
    "\n",
    "# OFDM Parameters\n",
    "Bandwidth           = 5*10**6 # bandwidth\n",
    "fftSize             = 1024    # FFT-size for OFDM\n",
    "subcarrier_spacing  = 15000   # Subcarrier spacing\n",
    "numOFDMSymbols      = 14      # Number of OFDM symbols considered for emulation | 1 slot\n",
    "sample_rate         = fftSize*subcarrier_spacing # sample rate required by OFDM and DAC/ADC of SDR\n",
    "\n",
    "# Pulse Shaping\n",
    "numSamplesPerSymbol = 1\n",
    "\n",
    "\n",
    "# number of samples returned per call to rx()\n",
    "buffer_size         = int(fftSize*1.2*numSamplesPerSymbol*numOFDMSymbols)\n"
   ]
  },
  {
   "cell_type": "markdown",
   "id": "b3a644e5",
   "metadata": {},
   "source": [
    "## 3.2 SDR-Setup Configurations"
   ]
  },
  {
   "cell_type": "code",
   "execution_count": 4,
   "id": "3cdf41f3",
   "metadata": {},
   "outputs": [],
   "source": [
    "\n",
    "# SDR setup\n",
    "sdr             = adi.Pluto(\"ip:192.168.2.1\")       # Create object of SDR setup object and configure the IP of SDR connect to the system\n",
    "sdr.sample_rate = int(sample_rate)                  # Sets the sample rate for the ADC/DAC of the SDR.\n",
    "\n",
    "# Config Rx\n",
    "sdr.rx_lo                   = int(center_frequency) # Sets the receiver local oscillator frequency. \n",
    "# For Pluto SDR, rx_lo can take a value between 325 MHz to 3.8 GHz.\n",
    "sdr.rx_rf_bandwidth         = int(60*10**6)         # Set the bandwidth (in Hz) of the reception filter\n",
    "# For Pluto SDR, tx_rf_bandwidth should be between 200 kHz and 56 MHz.\n",
    "sdr.rx_buffer_size          = int(buffer_size)      # Number of samples to read and load into SDR buffer.\n",
    "# The upper limit on the size of this buffer is defined by the DRAM size.\n",
    "\n",
    "sdr.gain_control_mode_chan0 = 'manual'              # Defines the mode of receiver AGC.\n",
    "# # AGC modes: \n",
    "#     # 1. \"manual\"\n",
    "#     # 2. \"slow_attack\"\n",
    "#     # 3. \"fast_attack\"\n",
    "# The receive gain on the Pluto has a range from 0 to 74.5 dB.\n",
    "\n",
    "sdr.rx_hardwaregain_chan0   = 40.0 # dB, increase to increase the receive gain, but be careful not to saturate the ADC\n",
    "# Sets the amplification gain (dB) provided by the low noise amplifier (LNA). \n",
    "# Relevant only when `gain_control_mode_chan0` is \"manual\".\n"
   ]
  },
  {
   "cell_type": "markdown",
   "id": "8882ea29",
   "metadata": {},
   "source": [
    "## 3.2 Reception: SDR RF Receiver"
   ]
  },
  {
   "cell_type": "code",
   "execution_count": 5,
   "id": "4e77baa4",
   "metadata": {},
   "outputs": [],
   "source": [
    "\n",
    "# Clear buffer just to be safe\n",
    "for i in range (0, 10):\n",
    "    raw_data = sdr.rx()\n",
    "\n",
    "# Receive samples\n",
    "rx_samples = sdr.rx()\n",
    "\n",
    "# # Stop transmitting\n",
    "# sdr.tx_destroy_buffer()\n"
   ]
  },
  {
   "cell_type": "markdown",
   "id": "9220895a-0043-4fe1-ae0e-bbd24ac23c42",
   "metadata": {},
   "source": [
    "## 3.2 Time Frequency Configurations"
   ]
  },
  {
   "cell_type": "code",
   "execution_count": 6,
   "id": "19402ee6-7d7b-40b0-aa2b-6279109b6012",
   "metadata": {},
   "outputs": [],
   "source": [
    "## This class fetches valid set of 5G parameters for the system configurations\n",
    "nSymbolFrame= int(140*subcarrier_spacing/15000)\n",
    "## This class fetches valid set of 5G parameters for the system configurations \n",
    "tfParams    = TimeFrequency5GParameters(Bandwidth, subcarrier_spacing)\n",
    "tfParams(nSymbolFrame, typeCP = \"normal\")\n",
    "nRB         = tfParams.numRBs        # SSB Grid size (Number of RBs considered for SSB transition)\n",
    "Neff        = tfParams.Neff        # Number of resource blocks for Resource Grid ( exclude gaurd band | offsets : BWP)\n",
    "Nfft        = 512                 # FFT-size for OFDM\n",
    "lengthCP    = tfParams.lengthCP    # CP length"
   ]
  },
  {
   "cell_type": "markdown",
   "id": "ede770ce",
   "metadata": {},
   "source": [
    "## 3.2 Time Synchronization: Based on PSS Correlation"
   ]
  },
  {
   "cell_type": "code",
   "execution_count": 7,
   "id": "1da87223",
   "metadata": {},
   "outputs": [
    {
     "name": "stdout",
     "output_type": "stream",
     "text": [
      "**(rasterOffset, PSS-ID) (362, 0)\n",
      "**(rasterOffset, PSS-ID) (362, 1)\n",
      "**(rasterOffset, PSS-ID) (362, 2)\n"
     ]
    },
    {
     "data": {
      "image/png": "[encoded data removed]",
      "text/plain": [
       "<Figure size 1714.29x857.143 with 1 Axes>"
      ]
     },
     "metadata": {},
     "output_type": "display_data"
    }
   ],
   "source": [
    "## PSS Detection: Based on time domain PSS Correlation\n",
    "startingSubcarrierIndices = 0\n",
    "pssDetection   = PSSDetection(\"largestPeak\")\n",
    "ssboffset      = int((fftSize-Neff)/2+startingSubcarrierIndices)\n",
    "pssPeakIndices, pssCorrelation, rN_ID2, freqOffset = pssDetection(rx_samples, fftSize, lengthCP = lengthCP[1], \n",
    "                                                                  nID2=None, freqOffset = ssboffset)\n",
    "\n",
    "## PSS Detection Plot\n",
    "#################################################################\n",
    "scaleFig = 1.75\n",
    "fig, ax  = plt.subplots(figsize=(30/scaleFig, 15/scaleFig))\n",
    "\n",
    "# single line\n",
    "ax.plot(pssCorrelation)\n",
    "ax.vlines(x = pssPeakIndices, ymin = 0*pssCorrelation[pssPeakIndices],\n",
    "           ymax = pssCorrelation[pssPeakIndices], colors = 'purple')\n",
    "ax.set_ylim([0,np.max(pssCorrelation)*1.1])\n",
    "ax.set_xlabel(\"Time Samples Index\")\n",
    "ax.set_ylabel(\"Amplitude of Time Domain Correlation\")\n",
    "ax.set_title(\"Amplitude (of Time Domain Correlation) vs Time-samples\")\n",
    "plt.show()\n",
    "#________________________________________________________________"
   ]
  },
  {
   "cell_type": "markdown",
   "id": "627cb2e5",
   "metadata": {},
   "source": [
    "## 3.2 Frame Synchronization: Visualization\n",
    "\n",
    "``Note``: The following snippet of code only works with interactive maplotlib.\n",
    "\n",
    "1. ![](caution.jpg) **Please ensure that you have intractive matplotlib installed on your system.**\n",
    "2. **uncomment the ``%matplotlib widget`` in first code block for the following section of code to work**"
   ]
  },
  {
   "cell_type": "code",
   "execution_count": 8,
   "id": "3c32cc1f",
   "metadata": {},
   "outputs": [],
   "source": [
    "correlation    = np.zeros((3, pssCorrelation.size), dtype = np.float32)\n",
    "r              = rx_samples[i:i+fftSize]\n",
    "correlation[0] = np.abs(np.correlate(rx_samples, np.squeeze(pssDetection.pssRTime[0]), mode='valid'))\n",
    "correlation[1] = np.abs(np.correlate(rx_samples, np.squeeze(pssDetection.pssRTime[1]), mode='valid'))\n",
    "correlation[2] = np.abs(np.correlate(rx_samples, np.squeeze(pssDetection.pssRTime[2]), mode='valid'))\n",
    "\n",
    "# function that draws each frame of the animation\n",
    "def animate(i):\n",
    "\n",
    "    ax[0].clear()\n",
    "    ax[0].grid()\n",
    "    ax[0].plot(correlation[0,0:scale*(i+1)], color='k', label = \"Correlation With PSS with $n_{ID}^{2}=0$\")\n",
    "    ax[0].legend()\n",
    "    ax[0].set_xlim([0,pssCorrelation.size])\n",
    "    ax[0].set_ylim([0,np.max(pssCorrelation)*1.1])\n",
    "\n",
    "    ax[1].clear()\n",
    "    ax[1].grid()\n",
    "    ax[1].plot(correlation[1,0:scale*(i+1)], color='g', label = \"Correlation With PSS with $n_{ID}^{2}=1$\")\n",
    "    ax[1].legend()\n",
    "    ax[1].set_xlim([0,pssCorrelation.size])\n",
    "    ax[1].set_ylim([0,np.max(pssCorrelation)*1.1])\n",
    "\n",
    "    ax[2].clear()\n",
    "    ax[2].grid()\n",
    "    ax[2].plot(correlation[2,0:scale*(i+1)], color='b', label = \"Correlation With PSS with $n_{ID}^{2}=2$\")\n",
    "    ax[2].legend()\n",
    "    ax[2].set_xlim([0,pssCorrelation.size])\n",
    "    ax[2].set_ylim([0,np.max(pssCorrelation)*1.1])\n",
    "    \n",
    "    ax[3].clear()\n",
    "    ax[3].grid()\n",
    "    ax[3].plot(np.real(rx_samples[0:scale*(i+1)]), color='r', label = \"real part of received signal\")\n",
    "    ax[3].plot(np.imag(rx_samples[0:scale*(i+1)]), color='y', label = \"imaginary part of received signal\")\n",
    "    ax[3].legend()\n",
    "    ax[3].set_xlim([0,pssCorrelation.size])\n",
    "    ax[3].set_ylim([minX,maxY])\n",
    "\n",
    "minX = np.min([np.real(rx_samples).min(), np.imag(rx_samples).min()])\n",
    "maxY = np.max([np.real(rx_samples).max(), np.imag(rx_samples).max()])\n",
    "# create the figure and axes objects\n",
    "scaleFig = 1.75\n",
    "fig, ax  = plt.subplots(4,1,figsize=(30/scaleFig, 20/scaleFig))\n",
    "fig.suptitle('Spectrum of the Received Signal', fontsize=10)\n",
    "\n",
    "scale = 100\n",
    "#####################\n",
    "# run the animation\n",
    "#####################\n",
    "# frames= 20 means 20 times the animation function is called.\n",
    "# interval=500 means 500 milliseconds between each frame.\n",
    "# repeat=False means that after all the frames are drawn, the animation will not repeat.\n",
    "# Note: plt.show() line is always called after the FuncAnimation line.\n",
    "\n",
    "\n",
    "anim = animation.FuncAnimation(fig, animate, frames=int(np.floor((correlation.size-1)/scale)), interval=1, repeat=False, blit=True)\n",
    "# saving to mp4 using ffmpeg writer\n",
    "plt.show()\n",
    "\n",
    "# anim.save(\"Overall.gif\", fps = 10)\n",
    "\n",
    "# writervideo = animation.FFMpegWriter(fps=60) \n",
    "# anim.save('Overall.mp4', writer=writervideo)"
   ]
  },
  {
   "cell_type": "markdown",
   "id": "8832a3bd",
   "metadata": {},
   "source": [
    "![Overall-3.2](Overall.gif)"
   ]
  },
  {
   "cell_type": "markdown",
   "id": "6033a1ca",
   "metadata": {},
   "source": [
    "## 3.2 Saving Running frames\n",
    "\n",
    "``Note``: The following snippet of code only works with interactive maplotlib.\n",
    "\n",
    "1. ![caution-3.2](caution.jpg) **Please ensure that you have intractive matplotlib installed on your system.**\n",
    "2. **uncomment the ``%matplotlib widget`` in first code block for the following section of code to work**"
   ]
  },
  {
   "cell_type": "code",
   "execution_count": 9,
   "id": "c8f0355a",
   "metadata": {},
   "outputs": [],
   "source": [
    "\n",
    "# function that draws each frame of the animation\n",
    "def animate(i):\n",
    "    if scale*i+fftSize < rx_samples.size:\n",
    "        ax1[3].clear()\n",
    "        ax1[3].grid()\n",
    "        ax1[3].plot(np.arange(scale*i,(scale*i+fftSize)), np.real(rx_samples[scale*i:(scale*i+fftSize)]), color='r', label = \"real part of received signal\")\n",
    "        ax1[3].plot(np.arange(scale*i,(scale*i+fftSize)), np.imag(rx_samples[scale*i:(scale*i+fftSize)]), color='y', label = \"imaginary part of received signal\")\n",
    "        ax1[3].legend()\n",
    "        ax1[3].set_xlim([scale*i, scale*i+fftSize])\n",
    "        ax1[3].set_ylim([minX,maxY])\n",
    "\n",
    "# create the fig1ure and axes objects\n",
    "scalefig1 = 1.75\n",
    "fig1, ax1  = plt.subplots(4,1,figsize=(30/scalefig1, 20/scalefig1))\n",
    "fig1.suptitle('Spectrum of the Received Signal', fontsize=10)\n",
    "\n",
    "minX = np.min([np.real(pssDetection.pssRTime[0]).min(), np.imag(pssDetection.pssRTime[0]).min()])\n",
    "maxY = np.max([np.real(pssDetection.pssRTime[0]).max(), np.imag(pssDetection.pssRTime[0]).max()])\n",
    "\n",
    "ax1[0].plot(np.real(pssDetection.pssRTime[0]), color='k', label = \"real part of Time domain PSS with $n_{ID}^{2}=0$\")\n",
    "ax1[0].plot(np.imag(pssDetection.pssRTime[0]), color='r', label = \"imaginary part of Time domain PSS with $n_{ID}^{2}=0$\")\n",
    "ax1[0].legend()\n",
    "ax1[0].set_xlim([0,pssDetection.pssRTime[2].size])\n",
    "ax1[0].set_ylim([minX,maxY])\n",
    "\n",
    "minX = np.min([np.real(pssDetection.pssRTime[1]).min(), np.imag(pssDetection.pssRTime[1]).min()])\n",
    "maxY = np.max([np.real(pssDetection.pssRTime[1]).max(), np.imag(pssDetection.pssRTime[1]).max()])\n",
    "\n",
    "ax1[1].plot(np.real(pssDetection.pssRTime[1]), color='k', label = \"real part of Time domain PSS with $n_{ID}^{2}=1$\")\n",
    "ax1[1].plot(np.imag(pssDetection.pssRTime[1]), color='r', label = \"imaginary part of Time domain PSS with $n_{ID}^{2}=1$\")\n",
    "ax1[1].legend()\n",
    "ax1[1].set_xlim([0,pssDetection.pssRTime[2].size])\n",
    "ax1[1].set_ylim([minX,maxY])\n",
    "\n",
    "minX = np.min([np.real(pssDetection.pssRTime[2]).min(), np.imag(pssDetection.pssRTime[2]).min()])\n",
    "max1Y = np.max([np.real(pssDetection.pssRTime[2]).max(), np.imag(pssDetection.pssRTime[2]).max()])\n",
    "ax1[2].plot(np.real(pssDetection.pssRTime[2]), color='k', label = \"real part of Time domain PSS with $n_{ID}^{2}=2$\")\n",
    "ax1[2].plot(np.imag(pssDetection.pssRTime[2]), color='r', label = \"imaginary part of Time domain PSS with $n_{ID}^{2}=2$\")\n",
    "ax1[2].legend()\n",
    "ax1[2].set_xlim([0,pssDetection.pssRTime[2].size])\n",
    "ax1[2].set_ylim([minX,maxY])\n",
    "\n",
    "# fig1.clear()\n",
    "minX = np.min([np.real(rx_samples).min(), np.imag(rx_samples).min()])\n",
    "maxY = np.max([np.real(rx_samples).max(), np.imag(rx_samples).max()])\n",
    "\n",
    "scale = 100\n",
    "#####################\n",
    "# run the animation\n",
    "#####################\n",
    "# frames= 20 means 20 times the animation function is called.\n",
    "# interval=500 means 500 milliseconds between each frame.\n",
    "# repeat=False means that after all the frames are drawn, the animation will not repeat.\n",
    "# Note: plt.show() line is always called after the FuncAnimation line.\n",
    "\n",
    "\n",
    "anim1 = animation.FuncAnimation(fig1, animate, frames=int(np.floor((rx_samples.size-1)/scale)-1), interval=1, repeat=False, blit=True)\n",
    "# saving to mp4 using ffmpeg writer\n",
    "plt.show()\n",
    "\n",
    "# anim1.save(\"Overall_frame.gif\", fps = 10)\n",
    "\n",
    "# writervideo = animation.FFMpegWriter(fps=60) \n",
    "# anim1.save('Overall_frame.mp4', writer=writervideo)"
   ]
  },
  {
   "cell_type": "markdown",
   "id": "aedddd5e",
   "metadata": {},
   "source": [
    "![Overall_frame-3.2](Overall_frame.gif)"
   ]
  },
  {
   "cell_type": "code",
   "execution_count": null,
   "id": "1c2d76be",
   "metadata": {},
   "outputs": [],
   "source": []
  }
 ],
 "metadata": {
  "kernelspec": {
   "display_name": "Python 3 (ipykernel)",
   "language": "python",
   "name": "python3"
  },
  "language_info": {
   "codemirror_mode": {
    "name": "ipython",
    "version": 3
   },
   "file_extension": ".py",
   "mimetype": "text/x-python",
   "name": "python",
   "nbconvert_exporter": "python",
   "pygments_lexer": "ipython3",
   "version": "3.11.0"
  }
 },
 "nbformat": 4,
 "nbformat_minor": 5
}
